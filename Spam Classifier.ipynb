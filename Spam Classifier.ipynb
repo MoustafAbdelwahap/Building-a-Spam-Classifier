{
 "cells": [
  {
   "cell_type": "code",
   "execution_count": 1,
   "metadata": {},
   "outputs": [],
   "source": [
    "# Libraries\n",
    "\n",
    "import pandas as pd\n",
    "import re\n",
    "from nltk.tokenize import word_tokenize\n",
    "from nltk.corpus import stopwords\n",
    "# Implementing Bag of Words from scratch - just for learning\n",
    "import pprint  \n",
    "from collections import Counter\n",
    "#Implementing Bag of Words in scikit-learn\n",
    "from sklearn.feature_extraction.text import CountVectorizer\n",
    "#Training and testing sets\n",
    "from sklearn.model_selection import train_test_split     #cross selection is not active anymore\n",
    "#Naive Bayes implementation using scikit-learn\n",
    "from sklearn.naive_bayes import MultinomialNB\n",
    "#Evaluating the model\n",
    "from sklearn.metrics import accuracy_score, precision_score, recall_score, f1_score"
   ]
  },
  {
   "cell_type": "code",
   "execution_count": 2,
   "metadata": {},
   "outputs": [
    {
     "data": {
      "text/html": [
       "<div>\n",
       "<style scoped>\n",
       "    .dataframe tbody tr th:only-of-type {\n",
       "        vertical-align: middle;\n",
       "    }\n",
       "\n",
       "    .dataframe tbody tr th {\n",
       "        vertical-align: top;\n",
       "    }\n",
       "\n",
       "    .dataframe thead th {\n",
       "        text-align: right;\n",
       "    }\n",
       "</style>\n",
       "<table border=\"1\" class=\"dataframe\">\n",
       "  <thead>\n",
       "    <tr style=\"text-align: right;\">\n",
       "      <th></th>\n",
       "      <th>label</th>\n",
       "      <th>sms_message</th>\n",
       "    </tr>\n",
       "  </thead>\n",
       "  <tbody>\n",
       "    <tr>\n",
       "      <th>0</th>\n",
       "      <td>0</td>\n",
       "      <td>Go until jurong point, crazy.. Available only ...</td>\n",
       "    </tr>\n",
       "    <tr>\n",
       "      <th>1</th>\n",
       "      <td>0</td>\n",
       "      <td>Ok lar... Joking wif u oni...</td>\n",
       "    </tr>\n",
       "    <tr>\n",
       "      <th>2</th>\n",
       "      <td>1</td>\n",
       "      <td>Free entry in 2 a wkly comp to win FA Cup fina...</td>\n",
       "    </tr>\n",
       "    <tr>\n",
       "      <th>3</th>\n",
       "      <td>0</td>\n",
       "      <td>U dun say so early hor... U c already then say...</td>\n",
       "    </tr>\n",
       "    <tr>\n",
       "      <th>4</th>\n",
       "      <td>0</td>\n",
       "      <td>Nah I don't think he goes to usf, he lives aro...</td>\n",
       "    </tr>\n",
       "  </tbody>\n",
       "</table>\n",
       "</div>"
      ],
      "text/plain": [
       "   label                                        sms_message\n",
       "0      0  Go until jurong point, crazy.. Available only ...\n",
       "1      0                      Ok lar... Joking wif u oni...\n",
       "2      1  Free entry in 2 a wkly comp to win FA Cup fina...\n",
       "3      0  U dun say so early hor... U c already then say...\n",
       "4      0  Nah I don't think he goes to usf, he lives aro..."
      ]
     },
     "execution_count": 2,
     "metadata": {},
     "output_type": "execute_result"
    }
   ],
   "source": [
    "#Importing data\n",
    "\n",
    "data=pd.read_csv('C://Users//TheGhost//Desktop//data.txt' ,sep='\\t' ,header =None , names=['label' , 'sms_message'] )   \n",
    "\n",
    "#Because this is a tab separated dataset we will be using '\\t' as the value for the 'sep' argumentwhich specifies this format\n",
    "\n",
    "# changeing output into numerical values (0&1) using Mapping\n",
    "data['label'] = data.label.map( {'ham':0, 'spam':1})\n",
    "data['label']\n",
    "\n",
    "data.head()\n",
    "\n"
   ]
  },
  {
   "cell_type": "code",
   "execution_count": 3,
   "metadata": {},
   "outputs": [],
   "source": [
    "# Implementing Bag of Words from scratch - just for learning\n",
    "\n",
    "#Step 1: Convert all strings to their lower case form.\n",
    "data_lower_case=[]\n",
    "for i in data['sms_message'] :\n",
    "        data_lower_case.append(i.lower())\n",
    "\n",
    "#Step 2: Removing all punctuations\n",
    "data_remove_punctuations=[]\n",
    "for i in data_lower_case :\n",
    "    str(i)\n",
    "    x=re.sub(r'[^\\w\\s]','',i)\n",
    "    data_remove_punctuations.append(x)\n",
    "\n",
    "#Step 3: Tokenization\n",
    "data_Tokenization=[]\n",
    "for i in data_remove_punctuations :\n",
    "    i=word_tokenize(i)\n",
    "    data_Tokenization.append(i)\n",
    "\n",
    "#Step 4: stop words removal\n",
    "data_stop_words_removal=[]  \n",
    "for i in data_Tokenization :\n",
    "    i=[w for w in i if w not in stopwords.words('english')] \n",
    "    data_stop_words_removal.append(i)\n",
    "\n",
    "#Step 4: Count frequencies\n",
    "frequency_list = []\n",
    "for y in data_stop_words_removal:\n",
    "    frequency_counts = Counter(y)\n",
    "    frequency_list.append(frequency_counts)\n",
    "    \n",
    "    \n"
   ]
  },
  {
   "cell_type": "code",
   "execution_count": null,
   "metadata": {},
   "outputs": [],
   "source": []
  },
  {
   "cell_type": "code",
   "execution_count": 4,
   "metadata": {},
   "outputs": [
    {
     "name": "stdout",
     "output_type": "stream",
     "text": [
      "Number of rows in the total set: 5574\n",
      "Number of rows in the training set: 4180\n",
      "Number of rows in the test set: 1394\n"
     ]
    }
   ],
   "source": [
    "# splitting the Training and testing sets\n",
    "\n",
    "X_train, X_test, y_train, y_test = train_test_split(data['sms_message'], \n",
    "                                                    data['label'], \n",
    "                                                    random_state=1)\n",
    "\n",
    "print('Number of rows in the total set: {}'.format(data.shape[0]))\n",
    "print('Number of rows in the training set: {}'.format(X_train.shape[0]))\n",
    "print('Number of rows in the test set: {}'.format(X_test.shape[0]))\n"
   ]
  },
  {
   "cell_type": "code",
   "execution_count": 5,
   "metadata": {},
   "outputs": [],
   "source": [
    "#Implementing Bag of Words in scikit-learn\n",
    "\n",
    "# Instantiate the CountVectorizer method\n",
    "count_vector = CountVectorizer(stop_words='english')\n",
    "# Fit the training data and then return the matrix\n",
    "training_data = count_vector.fit_transform(X_train)\n",
    "\n",
    "# Transform testing data and return the matrix. Note we are not fitting the testing data into the CountVectorizer()\n",
    "testing_data = count_vector.transform(X_test)\n",
    "\n"
   ]
  },
  {
   "cell_type": "code",
   "execution_count": 6,
   "metadata": {},
   "outputs": [],
   "source": [
    "#Naive Bayes implementation using scikit-learn\n",
    "\n",
    "naive_bayes = MultinomialNB()\n",
    "naive_bayes.fit(training_data, y_train)\n",
    "\n",
    "#make predictions on the test data\n",
    "predictions = naive_bayes.predict(testing_data)\n",
    "\n"
   ]
  },
  {
   "cell_type": "code",
   "execution_count": 7,
   "metadata": {},
   "outputs": [
    {
     "name": "stdout",
     "output_type": "stream",
     "text": [
      "Accuracy score:  0.9928263988522238\n",
      "Precision score:  0.9777777777777777\n",
      "Recall score:  0.967032967032967\n",
      "F1 score:  0.9723756906077348\n"
     ]
    }
   ],
   "source": [
    "#Evaluating the model\n",
    "\n",
    "print('Accuracy score: ', format(accuracy_score(y_test, predictions)))\n",
    "print('Precision score: ', format(precision_score(y_test, predictions)))\n",
    "print('Recall score: ', format(recall_score(y_test, predictions)))\n",
    "print('F1 score: ', format(f1_score(y_test, predictions)))\n",
    "\n",
    "#Accuracy score:  0.9928263988522238\n",
    "#Precision score:  0.9777777777777777\n",
    "#Recall score:  0.967032967032967\n",
    "#F1 score:  0.9723756906077348"
   ]
  }
 ],
 "metadata": {
  "kernelspec": {
   "display_name": "Python 3",
   "language": "python",
   "name": "python3"
  },
  "language_info": {
   "codemirror_mode": {
    "name": "ipython",
    "version": 3
   },
   "file_extension": ".py",
   "mimetype": "text/x-python",
   "name": "python",
   "nbconvert_exporter": "python",
   "pygments_lexer": "ipython3",
   "version": "3.8.3"
  }
 },
 "nbformat": 4,
 "nbformat_minor": 4
}
